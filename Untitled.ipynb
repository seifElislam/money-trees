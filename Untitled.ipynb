{
 "cells": [
  {
   "cell_type": "code",
   "execution_count": 14,
   "id": "3b89e288-3876-4931-9123-28a5e1a61c5d",
   "metadata": {},
   "outputs": [
    {
     "name": "stderr",
     "output_type": "stream",
     "text": [
      "/home/seif/.local/lib/python3.8/site-packages/tqdm/auto.py:21: TqdmWarning: IProgress not found. Please update jupyter and ipywidgets. See https://ipywidgets.readthedocs.io/en/stable/user_install.html\n",
      "  from .autonotebook import tqdm as notebook_tqdm\n"
     ]
    }
   ],
   "source": [
    "import pandas as pd\n",
    "import dpath\n",
    "import json\n",
    "import swifter"
   ]
  },
  {
   "cell_type": "code",
   "execution_count": 3,
   "id": "98f719a0-fa38-4aea-b8ea-7ff53d29b2d3",
   "metadata": {},
   "outputs": [],
   "source": [
    "class StreetTreeType:\n",
    "    \"\"\"\n",
    "\n",
    "    \"\"\"\n",
    "\n",
    "    def __init__(self, dataset_file_path):\n",
    "        \"\"\"\n",
    "\n",
    "        :param dataset_file_path:\n",
    "        \"\"\"\n",
    "        self.dataset = self.load_dataset(dataset_file_path)\n",
    "\n",
    "    @staticmethod\n",
    "    def load_dataset(file_path):\n",
    "        \"\"\"\n",
    "\n",
    "        :param file_path:\n",
    "        :return:\n",
    "        \"\"\"\n",
    "        with open(file_path) as fh:\n",
    "            content = json.load(fh)\n",
    "        return content\n",
    "\n",
    "    def __is_short(self, path):\n",
    "        \"\"\"\n",
    "\n",
    "        :param path:\n",
    "        :return:\n",
    "        \"\"\"\n",
    "        try:\n",
    "            if dpath.get(self.dataset['short'], path):\n",
    "                return True\n",
    "        except KeyError:\n",
    "            return False\n",
    "\n",
    "    def __is_tall(self, path):\n",
    "        \"\"\"\n",
    "\n",
    "        :param path:\n",
    "        :return:\n",
    "        \"\"\"\n",
    "        try:\n",
    "            if dpath.get(self.dataset['tall'], path):\n",
    "                return True\n",
    "        except KeyError:\n",
    "            return False\n",
    "\n",
    "    def get_street_type(self, street_name):\n",
    "        \"\"\"\n",
    "\n",
    "        :param street_name:\n",
    "        :return:\n",
    "        \"\"\"\n",
    "        parts = street_name.strip().split(' ')\n",
    "        path = '/'.join(parts[-1::-1])\n",
    "        if self.__is_short(path):\n",
    "            return 'short'\n",
    "        elif self.__is_tall(path):\n",
    "            return 'tall'\n",
    "        return 'n/a'"
   ]
  },
  {
   "cell_type": "code",
   "execution_count": 4,
   "id": "f8d129a4-ad15-4b2b-873d-02c10fa57cc8",
   "metadata": {},
   "outputs": [],
   "source": [
    "dataset_path = 'dublin-trees.json'\n",
    "street_trees_dataset = StreetTreeType(dataset_path)"
   ]
  },
  {
   "cell_type": "code",
   "execution_count": 5,
   "id": "2fca9c0e-0d5b-4bc7-b602-8a084284f8e9",
   "metadata": {},
   "outputs": [],
   "source": [
    "df = pd.read_csv('dublin-property.csv', encoding='windows-1252')"
   ]
  },
  {
   "cell_type": "code",
   "execution_count": 6,
   "id": "07f91b9e-5410-49fb-928b-91a1dbd7e0f9",
   "metadata": {},
   "outputs": [
    {
     "data": {
      "text/html": [
       "<div>\n",
       "<style scoped>\n",
       "    .dataframe tbody tr th:only-of-type {\n",
       "        vertical-align: middle;\n",
       "    }\n",
       "\n",
       "    .dataframe tbody tr th {\n",
       "        vertical-align: top;\n",
       "    }\n",
       "\n",
       "    .dataframe thead th {\n",
       "        text-align: right;\n",
       "    }\n",
       "</style>\n",
       "<table border=\"1\" class=\"dataframe\">\n",
       "  <thead>\n",
       "    <tr style=\"text-align: right;\">\n",
       "      <th></th>\n",
       "      <th>Date of Sale (dd/mm/yyyy)</th>\n",
       "      <th>Address</th>\n",
       "      <th>Street Name</th>\n",
       "      <th>Price</th>\n",
       "    </tr>\n",
       "  </thead>\n",
       "  <tbody>\n",
       "    <tr>\n",
       "      <th>0</th>\n",
       "      <td>1/1/2015</td>\n",
       "      <td>APT 274, THE PARKLANDS, NORTHWOOD</td>\n",
       "      <td>the park</td>\n",
       "      <td>€ 79,500.00</td>\n",
       "    </tr>\n",
       "    <tr>\n",
       "      <th>1</th>\n",
       "      <td>5/1/2015</td>\n",
       "      <td>61 CHARLEMONT, GRIFFITH AVE, DUBLIN 9</td>\n",
       "      <td>charlemont</td>\n",
       "      <td>€ 557,000.00</td>\n",
       "    </tr>\n",
       "    <tr>\n",
       "      <th>2</th>\n",
       "      <td>6/1/2015</td>\n",
       "      <td>6A Church Street, Finglas, Dublin 11</td>\n",
       "      <td>church street</td>\n",
       "      <td>€ 160,000.00</td>\n",
       "    </tr>\n",
       "    <tr>\n",
       "      <th>3</th>\n",
       "      <td>6/1/2015</td>\n",
       "      <td>APARTMENT 13 MOUNTGORRY WOOD, MALAHIDE ROAD, S...</td>\n",
       "      <td>malahide road</td>\n",
       "      <td>€ 140,000.00</td>\n",
       "    </tr>\n",
       "    <tr>\n",
       "      <th>4</th>\n",
       "      <td>7/1/2015</td>\n",
       "      <td>15 THE TANNERY, 50 CORK ST, DUBLIN 8</td>\n",
       "      <td>cork street</td>\n",
       "      <td>€ 200,000.00</td>\n",
       "    </tr>\n",
       "  </tbody>\n",
       "</table>\n",
       "</div>"
      ],
      "text/plain": [
       "  Date of Sale (dd/mm/yyyy)  \\\n",
       "0                  1/1/2015   \n",
       "1                  5/1/2015   \n",
       "2                  6/1/2015   \n",
       "3                  6/1/2015   \n",
       "4                  7/1/2015   \n",
       "\n",
       "                                             Address    Street Name  \\\n",
       "0                  APT 274, THE PARKLANDS, NORTHWOOD       the park   \n",
       "1              61 CHARLEMONT, GRIFFITH AVE, DUBLIN 9     charlemont   \n",
       "2               6A Church Street, Finglas, Dublin 11  church street   \n",
       "3  APARTMENT 13 MOUNTGORRY WOOD, MALAHIDE ROAD, S...  malahide road   \n",
       "4               15 THE TANNERY, 50 CORK ST, DUBLIN 8    cork street   \n",
       "\n",
       "          Price  \n",
       "0   € 79,500.00  \n",
       "1  € 557,000.00  \n",
       "2  € 160,000.00  \n",
       "3  € 140,000.00  \n",
       "4  € 200,000.00  "
      ]
     },
     "execution_count": 6,
     "metadata": {},
     "output_type": "execute_result"
    }
   ],
   "source": [
    "df.head()"
   ]
  },
  {
   "cell_type": "code",
   "execution_count": 10,
   "id": "b3322f3d-2aa2-4030-83b9-b52b73280bf2",
   "metadata": {},
   "outputs": [],
   "source": [
    "df['Price'] = df.Price.replace({'€': '', ',': ''}, regex=True).astype(float)"
   ]
  },
  {
   "cell_type": "code",
   "execution_count": 16,
   "id": "2a665695-0546-4c2a-a231-8a2b99a1d641",
   "metadata": {},
   "outputs": [
    {
     "name": "stderr",
     "output_type": "stream",
     "text": [
      "Pandas Apply: 100%|█████████████████████████████████████████████████████████████| 13346/13346 [00:09<00:00, 1372.62it/s]\n"
     ]
    }
   ],
   "source": [
    "# df['type'] = df['Street Name'].apply(street_trees_dataset.get_street_type)\n",
    "df['type'] = df['Street Name'].swifter.apply(lambda row: street_trees_dataset.get_street_type(row))"
   ]
  },
  {
   "cell_type": "code",
   "execution_count": 11,
   "id": "20f59c25-f4f7-49df-8369-f3fd3af10c45",
   "metadata": {},
   "outputs": [
    {
     "data": {
      "text/html": [
       "<div>\n",
       "<style scoped>\n",
       "    .dataframe tbody tr th:only-of-type {\n",
       "        vertical-align: middle;\n",
       "    }\n",
       "\n",
       "    .dataframe tbody tr th {\n",
       "        vertical-align: top;\n",
       "    }\n",
       "\n",
       "    .dataframe thead th {\n",
       "        text-align: right;\n",
       "    }\n",
       "</style>\n",
       "<table border=\"1\" class=\"dataframe\">\n",
       "  <thead>\n",
       "    <tr style=\"text-align: right;\">\n",
       "      <th></th>\n",
       "      <th>Date of Sale (dd/mm/yyyy)</th>\n",
       "      <th>Address</th>\n",
       "      <th>Street Name</th>\n",
       "      <th>Price</th>\n",
       "      <th>type</th>\n",
       "    </tr>\n",
       "  </thead>\n",
       "  <tbody>\n",
       "    <tr>\n",
       "      <th>0</th>\n",
       "      <td>1/1/2015</td>\n",
       "      <td>APT 274, THE PARKLANDS, NORTHWOOD</td>\n",
       "      <td>the park</td>\n",
       "      <td>79500.0</td>\n",
       "      <td>short</td>\n",
       "    </tr>\n",
       "    <tr>\n",
       "      <th>1</th>\n",
       "      <td>5/1/2015</td>\n",
       "      <td>61 CHARLEMONT, GRIFFITH AVE, DUBLIN 9</td>\n",
       "      <td>charlemont</td>\n",
       "      <td>557000.0</td>\n",
       "      <td>tall</td>\n",
       "    </tr>\n",
       "    <tr>\n",
       "      <th>2</th>\n",
       "      <td>6/1/2015</td>\n",
       "      <td>6A Church Street, Finglas, Dublin 11</td>\n",
       "      <td>church street</td>\n",
       "      <td>160000.0</td>\n",
       "      <td>short</td>\n",
       "    </tr>\n",
       "    <tr>\n",
       "      <th>3</th>\n",
       "      <td>6/1/2015</td>\n",
       "      <td>APARTMENT 13 MOUNTGORRY WOOD, MALAHIDE ROAD, S...</td>\n",
       "      <td>malahide road</td>\n",
       "      <td>140000.0</td>\n",
       "      <td>short</td>\n",
       "    </tr>\n",
       "    <tr>\n",
       "      <th>4</th>\n",
       "      <td>7/1/2015</td>\n",
       "      <td>15 THE TANNERY, 50 CORK ST, DUBLIN 8</td>\n",
       "      <td>cork street</td>\n",
       "      <td>200000.0</td>\n",
       "      <td>short</td>\n",
       "    </tr>\n",
       "  </tbody>\n",
       "</table>\n",
       "</div>"
      ],
      "text/plain": [
       "  Date of Sale (dd/mm/yyyy)  \\\n",
       "0                  1/1/2015   \n",
       "1                  5/1/2015   \n",
       "2                  6/1/2015   \n",
       "3                  6/1/2015   \n",
       "4                  7/1/2015   \n",
       "\n",
       "                                             Address    Street Name     Price  \\\n",
       "0                  APT 274, THE PARKLANDS, NORTHWOOD       the park   79500.0   \n",
       "1              61 CHARLEMONT, GRIFFITH AVE, DUBLIN 9     charlemont  557000.0   \n",
       "2               6A Church Street, Finglas, Dublin 11  church street  160000.0   \n",
       "3  APARTMENT 13 MOUNTGORRY WOOD, MALAHIDE ROAD, S...  malahide road  140000.0   \n",
       "4               15 THE TANNERY, 50 CORK ST, DUBLIN 8    cork street  200000.0   \n",
       "\n",
       "    type  \n",
       "0  short  \n",
       "1   tall  \n",
       "2  short  \n",
       "3  short  \n",
       "4  short  "
      ]
     },
     "execution_count": 11,
     "metadata": {},
     "output_type": "execute_result"
    }
   ],
   "source": [
    "df.head()"
   ]
  },
  {
   "cell_type": "code",
   "execution_count": 12,
   "id": "86c4c72a-e1c2-4266-bb46-c41ce918744b",
   "metadata": {},
   "outputs": [
    {
     "data": {
      "text/plain": [
       "488981.6592828445"
      ]
     },
     "execution_count": 12,
     "metadata": {},
     "output_type": "execute_result"
    }
   ],
   "source": [
    "df.loc[df[\"type\"] ==  'short', \"Price\"].mean()"
   ]
  },
  {
   "cell_type": "code",
   "execution_count": 13,
   "id": "72b8f288-ca18-44a4-9cae-94bf9c117a46",
   "metadata": {},
   "outputs": [
    {
     "data": {
      "text/plain": [
       "587800.3856725664"
      ]
     },
     "execution_count": 13,
     "metadata": {},
     "output_type": "execute_result"
    }
   ],
   "source": [
    "df.loc[df[\"type\"] ==  'tall', \"Price\"].mean()"
   ]
  },
  {
   "cell_type": "code",
   "execution_count": null,
   "id": "a7655b9d-d886-4a96-8185-53af45b18317",
   "metadata": {},
   "outputs": [],
   "source": []
  }
 ],
 "metadata": {
  "kernelspec": {
   "display_name": "Python 3 (ipykernel)",
   "language": "python",
   "name": "python3"
  },
  "language_info": {
   "codemirror_mode": {
    "name": "ipython",
    "version": 3
   },
   "file_extension": ".py",
   "mimetype": "text/x-python",
   "name": "python",
   "nbconvert_exporter": "python",
   "pygments_lexer": "ipython3",
   "version": "3.8.10"
  }
 },
 "nbformat": 4,
 "nbformat_minor": 5
}
